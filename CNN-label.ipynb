{
 "cells": [
  {
   "cell_type": "code",
   "execution_count": 1,
   "metadata": {},
   "outputs": [],
   "source": [
    "import torch\n",
    "import torch.nn as nn\n",
    "import torch.nn.functional as F\n",
    "import torchvision.transforms as T\n",
    "import torch.optim as optim\n",
    "import matplotlib.pyplot as plt\n",
    "import numpy as np\n",
    "import os\n",
    "import glob\n",
    "from skimage import io, transform\n",
    "from PIL import Image\n",
    "from torch.utils.data import Dataset, DataLoader\n",
    "from sklearn import preprocessing\n",
    "from typing import List\n",
    "from IPython.display import clear_output\n",
    "\n",
    "import sys\n",
    "sys.path.insert(0, '/home/caitao/Project/dl-localization')\n",
    "from input_output import Default\n",
    "from utility import Utility"
   ]
  },
  {
   "cell_type": "markdown",
   "metadata": {},
   "source": [
    "# Common modules"
   ]
  },
  {
   "cell_type": "code",
   "execution_count": 2,
   "metadata": {},
   "outputs": [],
   "source": [
    "class MinMaxNormalize:\n",
    "    '''Min max normalization, the new bound is (lower, upper)\n",
    "    '''\n",
    "    def __init__(self, lower=0, upper=1):\n",
    "        assert isinstance(lower, (int, float))\n",
    "        assert isinstance(upper, (int, float))\n",
    "        self.lower = lower\n",
    "        self.upper = upper\n",
    "\n",
    "    def __call__(self, matrix):\n",
    "        minn = matrix.min()\n",
    "        maxx = matrix.max()\n",
    "        matrix = (matrix - minn) / (maxx - minn)\n",
    "        if self.lower != 0 or self.upper != 1:\n",
    "            matrix = self.lower + matrix * (self.upper - self.lower)\n",
    "        return matrix.astype(np.float32)\n",
    "\n",
    "class Metrics:\n",
    "    '''Evaluation metrics\n",
    "    '''\n",
    "    @staticmethod\n",
    "    def localization_error_image(pred_batch, truth_batch, grid_len):\n",
    "        '''euclidian error when modeling the output representation is a matrix (image)\\\n",
    "           both pred and truth are batches, typically a batch of 32\n",
    "        '''\n",
    "        error = 0\n",
    "        for pred, truth in zip(pred_batch, truth_batch):\n",
    "            pred, truth = pred[0], truth[0]  # there is only one channel\n",
    "            indx = np.argmax(pred)\n",
    "            pred_x = indx // grid_len\n",
    "            pred_y = indx %  grid_len\n",
    "            indx = np.argmax(truth)\n",
    "            true_x = indx // grid_len\n",
    "            true_y = indx %  grid_len\n",
    "            error += Utility.distance_error((pred_x, pred_y), (true_x, true_y))\n",
    "        return error/len(pred_batch)"
   ]
  },
  {
   "cell_type": "markdown",
   "metadata": {},
   "source": [
    "# 0 Input is Image"
   ]
  },
  {
   "cell_type": "code",
   "execution_count": 3,
   "metadata": {},
   "outputs": [
    {
     "name": "stdout",
     "output_type": "stream",
     "text": [
      "label: 0\n"
     ]
    },
    {
     "data": {
      "image/png": "[encoded data removed]",
      "text/plain": [
       "<Figure size 432x288 with 1 Axes>"
      ]
     },
     "metadata": {
      "needs_background": "light"
     },
     "output_type": "display_data"
    }
   ],
   "source": [
    "# when the input is an image\n",
    "class SensorInputDatasetImage(Dataset):\n",
    "    '''Sensor reading input dataset'''\n",
    "    def __init__(self, root_dir: str, transform=None):\n",
    "        '''\n",
    "        Args:\n",
    "            root_dir:  directory with all the images\n",
    "            labels:    labels of images\n",
    "            transform: optional transform to be applied on a sample\n",
    "        '''\n",
    "        self.root_dir = root_dir\n",
    "        self.transform = transform\n",
    "        self.length = len(os.listdir(self.root_dir))\n",
    "\n",
    "    def __len__(self):\n",
    "        return self.length * Default.sample_per_label\n",
    "\n",
    "    def __getitem__(self, idx):\n",
    "        folder   = self.oneDint2twoDstr(int(idx/Default.sample_per_label))\n",
    "        imgname  = str(idx%Default.sample_per_label) + '.png'\n",
    "        img_path = os.path.join(self.root_dir, folder, imgname)\n",
    "        image = Image.open(img_path)\n",
    "        if self.transform:\n",
    "            image = self.transform(image)\n",
    "        label = self.twoDstr2oneDint(folder)\n",
    "        sample = {'image':image, 'label':label}\n",
    "        return sample\n",
    "\n",
    "    def oneDint2twoDstr(self, oneDint):\n",
    "        '''convert a one dimension integer index to a two dimension string index'''\n",
    "        x = oneDint // Default.grid_length\n",
    "        y = oneDint % Default.grid_length\n",
    "        return f'({x}, {y})'\n",
    "    \n",
    "    def twoDstr2oneDint(self, twoDstr):\n",
    "        '''convert a two dimension string to a one dimension integet index for the labels'''\n",
    "        twoDstr = twoDstr[1:-1]\n",
    "        x, y = twoDstr.split(',')\n",
    "        x, y = int(x), int(y)\n",
    "        return x*Default.grid_length + y\n",
    "\n",
    "root_dir = './data/images_1'\n",
    "tf = T.Compose([\n",
    "     T.ToTensor()\n",
    "])\n",
    "\n",
    "sensor_input_dataset = SensorInputDatasetImage(root_dir = root_dir, transform = tf)\n",
    "sensor_input_dataloader = DataLoader(sensor_input_dataset, batch_size=4, shuffle=True, num_workers=4)\n",
    "plt.imshow(np.transpose(sensor_input_dataset[0]['image'], (1, 2, 0))[:, :, 0], cmap='gray')\n",
    "print('label:', sensor_input_dataset[0]['label'])"
   ]
  },
  {
   "cell_type": "markdown",
   "metadata": {},
   "source": [
    "---\n",
    "\n",
    "# 2 Input is matrix, classification with 10K labels (area is 100x100)"
   ]
  },
  {
   "cell_type": "code",
   "execution_count": 4,
   "metadata": {
    "tags": []
   },
   "outputs": [],
   "source": [
    "# when the input is a matrix\n",
    "class SensorInputDataset(Dataset):\n",
    "    '''Sensor reading input dataset'''\n",
    "    def __init__(self, root_dir: str, transform=None):\n",
    "        '''\n",
    "        Args:\n",
    "            root_dir:  directory with all the images\n",
    "            labels:    labels of images\n",
    "            transform: optional transform to be applied on a sample\n",
    "        '''\n",
    "        self.root_dir = root_dir\n",
    "        self.transform = transform\n",
    "        self.length = len(os.listdir(self.root_dir))\n",
    "\n",
    "    def __len__(self):\n",
    "        return self.length * Default.sample_per_label\n",
    "\n",
    "    def __getitem__(self, idx):\n",
    "        folder   = self.oneDint2twoDstr(int(idx/Default.sample_per_label))\n",
    "        matrix_name = str(idx%Default.sample_per_label) + '.txt'\n",
    "        matrix_path = os.path.join(self.root_dir, folder, matrix_name)\n",
    "        matrix = np.loadtxt(matrix_path, delimiter=',', dtype=float)\n",
    "        if self.transform:\n",
    "            matrix = self.transform(matrix)\n",
    "        label = self.twoDstr2oneDint(folder)\n",
    "        sample = {'matrix':matrix, 'label':label}\n",
    "        return sample\n",
    "\n",
    "    def oneDint2twoDstr(self, oneDint):\n",
    "        '''convert a one dimension integer index to a two dimension string index'''\n",
    "        x = oneDint // Default.grid_length\n",
    "        y = oneDint % Default.grid_length\n",
    "        return f'({x}, {y})'\n",
    "\n",
    "    def twoDstr2oneDint(self, twoDstr):\n",
    "        '''convert a two dimension string to a one dimension integet index for the labels'''\n",
    "        twoDstr = twoDstr[1:-1]\n",
    "        x, y = twoDstr.split(',')\n",
    "        x, y = int(x), int(y)\n",
    "        return x*Default.grid_length + y"
   ]
  },
  {
   "cell_type": "code",
   "execution_count": 5,
   "metadata": {},
   "outputs": [],
   "source": [
    "class Net1(nn.Module):\n",
    "    '''The output dimension of the full connnection layer is 100 x 100 = 10000\n",
    "       Assuming the input image is 1 x 100 x 100\n",
    "    '''\n",
    "    def __init__(self):\n",
    "        super(Net1, self).__init__()\n",
    "        self.conv1 = nn.Conv2d(1, 8, 5)\n",
    "        self.conv2 = nn.Conv2d(8, 32, 5)\n",
    "        self.fc    = nn.Linear(15488, 10000)  # too many labels\n",
    "\n",
    "    def forward(self, x):\n",
    "        x = F.max_pool2d(F.relu(self.conv1(x)), 2)\n",
    "        x = F.max_pool2d(F.relu(self.conv2(x)), 2)\n",
    "        x = x.view(-1, self.num_flat_features(x))\n",
    "        x = F.relu(self.fc(x))\n",
    "        return x\n",
    "\n",
    "    def num_flat_features(self, x):\n",
    "        size = x.size()[1:]  # all dimensions except the batch dimension\n",
    "        num_features = 1\n",
    "        for s in size:\n",
    "            num_features *= s\n",
    "        return num_features"
   ]
  },
  {
   "cell_type": "code",
   "execution_count": 6,
   "metadata": {},
   "outputs": [],
   "source": [
    "# data\n",
    "\n",
    "root_dir = './data/matrix-1'\n",
    "tf = T.Compose([\n",
    "     MinMaxNormalize(),\n",
    "     T.ToTensor()\n",
    "])\n",
    "\n",
    "sensor_input_dataset = SensorInputDataset(root_dir = root_dir, transform = tf)\n",
    "sensor_input_dataloader = DataLoader(sensor_input_dataset, batch_size=4, shuffle=True, num_workers=4)"
   ]
  },
  {
   "cell_type": "code",
   "execution_count": 7,
   "metadata": {
    "scrolled": true
   },
   "outputs": [
    {
     "name": "stdout",
     "output_type": "stream",
     "text": [
      "epoch = 0\n",
      "t = 0, loss = 9.200733184814453\n",
      "t = 200, loss = 9.21034049987793\n",
      "t = 400, loss = 9.21034049987793\n",
      "t = 600, loss = 9.21034049987793\n",
      "t = 800, loss = 9.21034049987793\n",
      "t = 1000, loss = 9.21034049987793\n",
      "t = 1200, loss = 9.21034049987793\n",
      "t = 1400, loss = 9.21034049987793\n",
      "t = 1600, loss = 9.21034049987793\n",
      "t = 1800, loss = 9.21034049987793\n",
      "t = 2000, loss = 9.21034049987793\n",
      "t = 2200, loss = 9.21034049987793\n",
      "t = 2400, loss = 9.21034049987793\n",
      "t = 2600, loss = 9.21034049987793\n",
      "t = 2800, loss = 9.21034049987793\n",
      "t = 3000, loss = 9.21034049987793\n",
      "t = 3200, loss = 9.21034049987793\n",
      "t = 3400, loss = 9.21034049987793\n",
      "t = 3600, loss = 9.21034049987793\n",
      "t = 3800, loss = 9.21034049987793\n",
      "t = 4000, loss = 9.21034049987793\n",
      "t = 4200, loss = 9.21034049987793\n",
      "t = 4400, loss = 9.21034049987793\n",
      "t = 4600, loss = 9.21034049987793\n",
      "t = 4800, loss = 9.21034049987793\n",
      "epoch = 1\n",
      "t = 0, loss = 9.21034049987793\n",
      "t = 200, loss = 9.21034049987793\n",
      "t = 400, loss = 9.21034049987793\n",
      "t = 600, loss = 9.21034049987793\n",
      "t = 800, loss = 9.21034049987793\n",
      "t = 1000, loss = 9.21034049987793\n",
      "t = 1200, loss = 9.21034049987793\n",
      "t = 1400, loss = 9.21034049987793\n",
      "t = 1600, loss = 9.21034049987793\n",
      "t = 1800, loss = 9.21034049987793\n",
      "t = 2000, loss = 9.21034049987793\n",
      "t = 2200, loss = 9.21034049987793\n",
      "t = 2400, loss = 9.21034049987793\n",
      "t = 2600, loss = 9.21034049987793\n",
      "t = 2800, loss = 9.21034049987793\n",
      "t = 3000, loss = 9.21034049987793\n",
      "t = 3200, loss = 9.21034049987793\n",
      "t = 3400, loss = 9.21034049987793\n",
      "t = 3600, loss = 9.21034049987793\n",
      "t = 3800, loss = 9.21034049987793\n",
      "t = 4000, loss = 9.21034049987793\n",
      "t = 4200, loss = 9.21034049987793\n",
      "t = 4400, loss = 9.21034049987793\n",
      "t = 4600, loss = 9.21034049987793\n",
      "t = 4800, loss = 9.21034049987793\n",
      "epoch = 2\n",
      "t = 0, loss = 9.21034049987793\n",
      "t = 200, loss = 9.21034049987793\n",
      "t = 400, loss = 9.21034049987793\n",
      "t = 600, loss = 9.21034049987793\n",
      "t = 800, loss = 9.21034049987793\n",
      "t = 1000, loss = 9.21034049987793\n",
      "t = 1200, loss = 9.21034049987793\n",
      "t = 1400, loss = 9.21034049987793\n",
      "t = 1600, loss = 9.21034049987793\n",
      "t = 1800, loss = 9.21034049987793\n",
      "t = 2000, loss = 9.21034049987793\n",
      "t = 2200, loss = 9.21034049987793\n",
      "t = 2400, loss = 9.21034049987793\n",
      "t = 2600, loss = 9.21034049987793\n",
      "t = 2800, loss = 9.21034049987793\n",
      "t = 3000, loss = 9.21034049987793\n",
      "t = 3200, loss = 9.21034049987793\n",
      "t = 3400, loss = 9.21034049987793\n",
      "t = 3600, loss = 9.21034049987793\n",
      "t = 3800, loss = 9.21034049987793\n",
      "t = 4000, loss = 9.21034049987793\n",
      "t = 4200, loss = 9.21034049987793\n",
      "t = 4400, loss = 9.21034049987793\n",
      "t = 4600, loss = 9.21034049987793\n",
      "t = 4800, loss = 9.21034049987793\n"
     ]
    }
   ],
   "source": [
    "# training\n",
    "\n",
    "net1      = Net1()\n",
    "device    = torch.device('cuda')\n",
    "model     = net1.to(device)\n",
    "optimizer = optim.Adam(model.parameters(), lr=0.001)\n",
    "criterion = nn.CrossEntropyLoss()  # criterion is the loss function\n",
    "\n",
    "num_epochs = 3\n",
    "train_losses = []\n",
    "valid_accs = []\n",
    "best_acc = 0\n",
    "print_every = 200\n",
    "\n",
    "for epoch in range(num_epochs):\n",
    "    print(f'epoch = {epoch}')\n",
    "    for t, sample in enumerate(sensor_input_dataloader):\n",
    "        model.train()\n",
    "        X = sample['matrix'].to(device)\n",
    "        y = sample['label'].to(device)\n",
    "        pred = model(X)\n",
    "        loss = criterion(pred, y)\n",
    "        optimizer.zero_grad()\n",
    "        loss.backward()\n",
    "        optimizer.step()\n",
    "        if t % print_every == 0:\n",
    "            print(f't = {t}, loss = {loss.item()}')"
   ]
  },
  {
   "cell_type": "markdown",
   "metadata": {},
   "source": [
    "# 3 Output is image, model as image segmentation problem\n",
    "\n",
    "## In the output grid (image), the location with the TX is 1, all others are 0"
   ]
  },
  {
   "cell_type": "markdown",
   "metadata": {},
   "source": [
    "## 3.1 Loss is nn.BCEWithLogitsLoss()"
   ]
  },
  {
   "cell_type": "code",
   "execution_count": 12,
   "metadata": {
    "scrolled": false,
    "tags": []
   },
   "outputs": [
    {
     "name": "stdout",
     "output_type": "stream",
     "text": [
      "torch.Size([1, 100, 100])\n",
      "[[[1. 0. 0. ... 0. 0. 0.]\n",
      "  [0. 0. 0. ... 0. 0. 0.]\n",
      "  [0. 0. 0. ... 0. 0. 0.]\n",
      "  ...\n",
      "  [0. 0. 0. ... 0. 0. 0.]\n",
      "  [0. 0. 0. ... 0. 0. 0.]\n",
      "  [0. 0. 0. ... 0. 0. 0.]]]\n",
      "100000\n",
      "torch.Size([1, 100, 100])\n",
      "[[[1. 0. 0. ... 0. 0. 0.]\n",
      "  [0. 0. 0. ... 0. 0. 0.]\n",
      "  [0. 0. 0. ... 0. 0. 0.]\n",
      "  ...\n",
      "  [0. 0. 0. ... 0. 0. 0.]\n",
      "  [0. 0. 0. ... 0. 0. 0.]\n",
      "  [0. 0. 0. ... 0. 0. 0.]]]\n",
      "30000\n"
     ]
    }
   ],
   "source": [
    "class SensorInputDatasetSegmentation(Dataset):\n",
    "    '''Sensor reading input dataset\n",
    "       Output is image, model as a image segmentation problem\n",
    "    '''\n",
    "    def __init__(self, root_dir: str, transform=None):\n",
    "        '''\n",
    "        Args:\n",
    "            root_dir:  directory with all the images\n",
    "            labels:    labels of images\n",
    "            transform: optional transform to be applied on a sample\n",
    "        '''\n",
    "        self.root_dir = root_dir\n",
    "        self.transform = transform\n",
    "        self.length = len(os.listdir(self.root_dir))\n",
    "        self.sample_per_label = self.get_sample_per_label(os.path.join(self.root_dir, '(0, 0)'))\n",
    "\n",
    "    def __len__(self):\n",
    "        return self.length * self.sample_per_label\n",
    "\n",
    "    def __getitem__(self, idx):\n",
    "        folder   = self.oneDint2twoDstr(int(idx/self.sample_per_label))\n",
    "        matrix_name = str(idx%self.sample_per_label) + '.npy'\n",
    "        matrix_path = os.path.join(self.root_dir, folder, matrix_name)\n",
    "        matrix = np.load(matrix_path)\n",
    "        if self.transform:\n",
    "            matrix = self.transform(matrix)\n",
    "        label = self.twoDstr2twoDmatrix(folder)\n",
    "        sample = {'matrix':matrix, 'label':label}\n",
    "        return sample\n",
    "\n",
    "    def get_sample_per_label(self, folder):\n",
    "        samples = glob.glob(os.path.join(folder, '*.npy'))\n",
    "        return len(samples)\n",
    "    \n",
    "    def oneDint2twoDstr(self, oneDint):\n",
    "        '''convert a one dimension integer index to a two dimension string index'''\n",
    "        x = oneDint // Default.grid_length\n",
    "        y = oneDint %  Default.grid_length\n",
    "        return f'({x}, {y})'\n",
    "\n",
    "    def twoDstr2twoDmatrix(self, twoDstr):\n",
    "        '''convert a two dimension string to a one dimension integet index for the labels'''\n",
    "        twoDstr = twoDstr[1:-1]\n",
    "        x, y = twoDstr.split(',')\n",
    "        x, y = int(x), int(y)\n",
    "        grid = np.zeros((Default.grid_length, Default.grid_length))\n",
    "        grid[x][y] = 1\n",
    "        grid = np.expand_dims(grid, 0)\n",
    "        return grid.astype(np.float32)\n",
    "\n",
    "\n",
    "tf = T.Compose([\n",
    "     MinMaxNormalize(),\n",
    "     T.ToTensor()\n",
    "])\n",
    "\n",
    "# training\n",
    "root_dir = './data/matrix-train3'\n",
    "sensor_input_dataset = SensorInputDatasetSegmentation(root_dir = root_dir, transform = tf)\n",
    "sensor_input_dataloader = DataLoader(sensor_input_dataset, batch_size=32, shuffle=True, num_workers=4)\n",
    "print(sensor_input_dataset[0]['matrix'].shape)\n",
    "print(sensor_input_dataset[0]['label'])\n",
    "print(sensor_input_dataset.__len__())\n",
    "\n",
    "# testing\n",
    "root_dir = './data/matrix-test3'\n",
    "sensor_input_test_dataset = SensorInputDatasetSegmentation(root_dir = root_dir, transform = tf)\n",
    "sensor_input_test_dataloader = DataLoader(sensor_input_test_dataset, batch_size=32, shuffle=True, num_workers=4)\n",
    "print(sensor_input_test_dataset[0]['matrix'].shape)\n",
    "print(sensor_input_test_dataset[0]['label'])\n",
    "print(sensor_input_test_dataset.__len__())"
   ]
  },
  {
   "cell_type": "code",
   "execution_count": 13,
   "metadata": {
    "tags": []
   },
   "outputs": [
    {
     "name": "stdout",
     "output_type": "stream",
     "text": [
      "Net2(\n",
      "  (conv1): Conv2d(1, 8, kernel_size=(5, 5), stride=(1, 1), padding=(2, 2))\n",
      "  (conv2): Conv2d(8, 32, kernel_size=(5, 5), stride=(1, 1), padding=(2, 2))\n",
      "  (conv3): Conv2d(32, 1, kernel_size=(5, 5), stride=(1, 1), padding=(2, 2))\n",
      ")\n"
     ]
    }
   ],
   "source": [
    "# model\n",
    "\n",
    "class Net2(nn.Module):\n",
    "    '''The output dimension of the full connnection layer is 100 x 100 = 10000\n",
    "       Assuming the input image is 1 x 100 x 100\n",
    "    '''\n",
    "    def __init__(self):\n",
    "        super(Net2, self).__init__()\n",
    "        self.conv1 = nn.Conv2d(1, 8, 5, padding=2)\n",
    "        self.conv2 = nn.Conv2d(8, 32, 5, padding=2)\n",
    "        self.conv3 = nn.Conv2d(32, 1, 5, padding=2)\n",
    "        \n",
    "    def forward(self, x):\n",
    "        x = F.relu(self.conv1(x))\n",
    "        x = F.relu(self.conv2(x))\n",
    "        x = self.conv3(x)\n",
    "        return x\n",
    "\n",
    "net2 = Net2()\n",
    "print(net2)"
   ]
  },
  {
   "cell_type": "code",
   "execution_count": 14,
   "metadata": {
    "scrolled": false
   },
   "outputs": [
    {
     "data": {
      "image/png": "[encoded data removed]",
      "text/plain": [
       "<Figure size 864x288 with 2 Axes>"
      ]
     },
     "metadata": {
      "needs_background": "light"
     },
     "output_type": "display_data"
    },
    {
     "name": "stdout",
     "output_type": "stream",
     "text": [
      "mean = 1.4345136105332\n",
      "std  = 0.42431590118877827\n",
      "CPU times: user 1min 11s, sys: 18.7 s, total: 1min 30s\n",
      "Wall time: 1min 31s\n"
     ]
    }
   ],
   "source": [
    "%%time\n",
    "# training segmentation problem\n",
    "\n",
    "net2 = Net2()\n",
    "print(net2)\n",
    "\n",
    "device    = torch.device('cuda')\n",
    "model     = net2.to(device)\n",
    "optimizer = optim.Adam(model.parameters(), lr=0.001)\n",
    "criterion = nn.BCEWithLogitsLoss()  # criterion is the loss function\n",
    "\n",
    "num_epochs    = 2\n",
    "train_losses = []\n",
    "test_errors  = []\n",
    "best_acc = 0\n",
    "print_every = 500\n",
    "\n",
    "for epoch in range(num_epochs):\n",
    "    print(f'epoch = {epoch}')\n",
    "    model.train()\n",
    "    for t, sample in enumerate(sensor_input_dataloader):\n",
    "        X = sample['matrix'].to(device)\n",
    "        y = sample['label'].to(device)\n",
    "        pred = model(X)\n",
    "        loss = criterion(pred, y)\n",
    "        optimizer.zero_grad()\n",
    "        loss.backward()\n",
    "        optimizer.step()\n",
    "        train_losses.append(loss.item())\n",
    "        if t % print_every == 0:\n",
    "            print(f't = {t}, loss = {loss.item()}')\n",
    "    \n",
    "    model.eval()\n",
    "\n",
    "    for t, sample in enumerate(sensor_input_test_dataloader):\n",
    "        X = sample['matrix'].to(device)\n",
    "        y = sample['label'].to(device)\n",
    "        pred = model(X)\n",
    "        pred = pred.data.cpu()\n",
    "        y = y.data.cpu()\n",
    "        test_errors.append(Metrics.localization_error_image(pred, y, Default.grid_length))\n",
    "    \n",
    "    clear_output(True)\n",
    "    plt.figure(figsize=(12, 4))\n",
    "    plt.subplot(121)\n",
    "    plt.plot(train_losses)\n",
    "    plt.subplot(122)\n",
    "    plt.plot(test_errors)\n",
    "    plt.show()\n",
    "    \n",
    "print('mean =', np.mean(test_errors))\n",
    "print('std  =', np.std(test_errors))"
   ]
  },
  {
   "cell_type": "code",
   "execution_count": 19,
   "metadata": {},
   "outputs": [
    {
     "name": "stdout",
     "output_type": "stream",
     "text": [
      "(32, 1, 100, 100)\n"
     ]
    },
    {
     "data": {
      "text/plain": [
       "<matplotlib.image.AxesImage at 0x7f4e4122cef0>"
      ]
     },
     "execution_count": 19,
     "metadata": {},
     "output_type": "execute_result"
    },
    {
     "data": {
      "image/png": "[encoded data removed]",
      "text/plain": [
       "<Figure size 432x288 with 1 Axes>"
      ]
     },
     "metadata": {
      "needs_background": "light"
     },
     "output_type": "display_data"
    }
   ],
   "source": [
    "model.eval()\n",
    "for t, sample in enumerate(sensor_input_dataloader):\n",
    "    X = sample['matrix'].to(device)\n",
    "    y = sample['label'].to(device)\n",
    "    pred = model(X)\n",
    "    break\n",
    "\n",
    "pred = pred.data.cpu().numpy()\n",
    "print(pred.shape)\n",
    "i = 0\n",
    "plt.imshow(pred[i, 0], cmap='gray')"
   ]
  },
  {
   "cell_type": "code",
   "execution_count": 20,
   "metadata": {},
   "outputs": [
    {
     "data": {
      "text/plain": [
       "<matplotlib.image.AxesImage at 0x7f4e42a097b8>"
      ]
     },
     "execution_count": 20,
     "metadata": {},
     "output_type": "execute_result"
    },
    {
     "data": {
      "image/png": "[encoded data removed]",
      "text/plain": [
       "<Figure size 432x288 with 1 Axes>"
      ]
     },
     "metadata": {
      "needs_background": "light"
     },
     "output_type": "display_data"
    }
   ],
   "source": [
    "y = y.cpu()\n",
    "plt.imshow(y[i, 0].data.cpu(), cmap='gray')"
   ]
  },
  {
   "cell_type": "markdown",
   "metadata": {},
   "source": [
    "## 3.2 Loss is nn.MSELoss()"
   ]
  },
  {
   "cell_type": "code",
   "execution_count": 22,
   "metadata": {
    "scrolled": true,
    "tags": []
   },
   "outputs": [
    {
     "data": {
      "image/png": "[encoded data removed]",
      "text/plain": [
       "<Figure size 864x288 with 2 Axes>"
      ]
     },
     "metadata": {
      "needs_background": "light"
     },
     "output_type": "display_data"
    },
    {
     "name": "stdout",
     "output_type": "stream",
     "text": [
      "mean = 1.2194532415846282\n",
      "std  = 0.23948634136417385\n",
      "CPU times: user 1min 10s, sys: 19 s, total: 1min 29s\n",
      "Wall time: 1min 30s\n"
     ]
    }
   ],
   "source": [
    "%%time\n",
    "# segmentation problem\n",
    "\n",
    "net2 = Net2()\n",
    "\n",
    "device    = torch.device('cuda')\n",
    "model     = net2.to(device)\n",
    "optimizer = optim.Adam(model.parameters(), lr=0.001)\n",
    "criterion = nn.MSELoss()  # criterion is the loss function\n",
    "\n",
    "num_epochs    = 2\n",
    "train_losses = []\n",
    "test_errors  = []\n",
    "best_acc = 0\n",
    "print_every = 500\n",
    "\n",
    "for epoch in range(num_epochs):\n",
    "    print(f'epoch = {epoch}')\n",
    "    model.train()\n",
    "    for t, sample in enumerate(sensor_input_dataloader):\n",
    "        X = sample['matrix'].to(device)\n",
    "        y = sample['label'].to(device)\n",
    "        pred = model(X)\n",
    "        loss = criterion(pred, y)\n",
    "        optimizer.zero_grad()\n",
    "        loss.backward()\n",
    "        optimizer.step()\n",
    "        train_losses.append(loss.item())\n",
    "        if t % print_every == 0:\n",
    "            print(f't = {t}, loss = {loss.item()}')\n",
    "    \n",
    "    model.eval()\n",
    "\n",
    "    for t, sample in enumerate(sensor_input_test_dataloader):\n",
    "        X = sample['matrix'].to(device)\n",
    "        y = sample['label'].to(device)\n",
    "        pred = model(X)\n",
    "        pred = pred.data.cpu()\n",
    "        y = y.data.cpu()\n",
    "        test_errors.append(Metrics.localization_error_image(pred, y, Default.grid_length))\n",
    "    \n",
    "    clear_output(True)\n",
    "    plt.figure(figsize=(12, 4))\n",
    "    plt.subplot(121)\n",
    "    plt.plot(train_losses)\n",
    "    plt.subplot(122)\n",
    "    plt.plot(test_errors)\n",
    "    plt.show()\n",
    "\n",
    "print('mean =', np.mean(test_errors))\n",
    "print('std  =', np.std(test_errors))"
   ]
  },
  {
   "cell_type": "code",
   "execution_count": 51,
   "metadata": {},
   "outputs": [
    {
     "name": "stdout",
     "output_type": "stream",
     "text": [
      "(32, 1, 100, 100)\n"
     ]
    },
    {
     "data": {
      "text/plain": [
       "<matplotlib.image.AxesImage at 0x7f4e127e2eb8>"
      ]
     },
     "execution_count": 51,
     "metadata": {},
     "output_type": "execute_result"
    },
    {
     "data": {
      "image/png": "[encoded data removed]",
      "text/plain": [
       "<Figure size 432x288 with 1 Axes>"
      ]
     },
     "metadata": {
      "needs_background": "light"
     },
     "output_type": "display_data"
    }
   ],
   "source": [
    "model.eval()\n",
    "for t, sample in enumerate(sensor_input_test_dataloader):\n",
    "    model.train()\n",
    "    X = sample['matrix'].to(device)\n",
    "    y = sample['label'].to(device)\n",
    "    pred = model(X)\n",
    "    break\n",
    "\n",
    "pred = pred.data.cpu().numpy()\n",
    "print(pred.shape)\n",
    "i = 0\n",
    "plt.imshow(pred[i, 0], cmap='gray')"
   ]
  },
  {
   "cell_type": "code",
   "execution_count": 52,
   "metadata": {},
   "outputs": [
    {
     "data": {
      "text/plain": [
       "<matplotlib.image.AxesImage at 0x7f4e126f8588>"
      ]
     },
     "execution_count": 52,
     "metadata": {},
     "output_type": "execute_result"
    },
    {
     "data": {
      "image/png": "[encoded data removed]",
      "text/plain": [
       "<Figure size 432x288 with 1 Axes>"
      ]
     },
     "metadata": {
      "needs_background": "light"
     },
     "output_type": "display_data"
    }
   ],
   "source": [
    "plt.imshow(y[i, 0].data.cpu(), cmap='gray')"
   ]
  },
  {
   "cell_type": "markdown",
   "metadata": {},
   "source": [
    "# Mics"
   ]
  },
  {
   "cell_type": "code",
   "execution_count": 30,
   "metadata": {},
   "outputs": [],
   "source": [
    "a = np.loadtxt('data/matrix-1/(0, 0)/0.txt', dtype=float, delimiter=',')"
   ]
  },
  {
   "cell_type": "code",
   "execution_count": 37,
   "metadata": {},
   "outputs": [
    {
     "data": {
      "text/plain": [
       "((100, 100), numpy.ndarray)"
      ]
     },
     "execution_count": 37,
     "metadata": {},
     "output_type": "execute_result"
    }
   ],
   "source": [
    "a.shape, type(a)"
   ]
  },
  {
   "cell_type": "code",
   "execution_count": 34,
   "metadata": {},
   "outputs": [],
   "source": [
    "b = imageio.imread('data/images_1/(0, 0)/0.png')"
   ]
  },
  {
   "cell_type": "code",
   "execution_count": 36,
   "metadata": {},
   "outputs": [
    {
     "data": {
      "text/plain": [
       "((100, 100), imageio.core.util.Array)"
      ]
     },
     "execution_count": 36,
     "metadata": {},
     "output_type": "execute_result"
    }
   ],
   "source": [
    "b.shape, type(b)"
   ]
  },
  {
   "cell_type": "code",
   "execution_count": 24,
   "metadata": {},
   "outputs": [],
   "source": [
    "a = np.array([1.1, 2.2, 3.3])"
   ]
  },
  {
   "cell_type": "code",
   "execution_count": 26,
   "metadata": {},
   "outputs": [
    {
     "data": {
      "text/plain": [
       "array([1.1, 2.2, 3.3], dtype=float32)"
      ]
     },
     "execution_count": 26,
     "metadata": {},
     "output_type": "execute_result"
    }
   ],
   "source": [
    "a.astype(np.float32)"
   ]
  },
  {
   "cell_type": "code",
   "execution_count": null,
   "metadata": {},
   "outputs": [],
   "source": []
  }
 ],
 "metadata": {
  "kernelspec": {
   "display_name": "Python 3",
   "language": "python",
   "name": "python3"
  },
  "language_info": {
   "codemirror_mode": {
    "name": "ipython",
    "version": 3
   },
   "file_extension": ".py",
   "mimetype": "text/x-python",
   "name": "python",
   "nbconvert_exporter": "python",
   "pygments_lexer": "ipython3",
   "version": "3.7.3"
  }
 },
 "nbformat": 4,
 "nbformat_minor": 2
}
