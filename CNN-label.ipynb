{
 "cells": [
  {
   "cell_type": "code",
   "execution_count": 2,
   "metadata": {},
   "outputs": [],
   "source": [
    "import torch\n",
    "import torch.nn as nn\n",
    "import torch.nn.functional as F\n",
    "import torchvision.transforms as T\n",
    "import torch.optim as optim\n",
    "import matplotlib.pyplot as plt\n",
    "import numpy as np\n",
    "import os\n",
    "from skimage import io, transform\n",
    "from PIL import Image\n",
    "from torch.utils.data import Dataset, DataLoader\n",
    "from sklearn import preprocessing\n",
    "from typing import List\n",
    "from IPython.display import clear_output\n",
    "\n",
    "import sys\n",
    "sys.path.insert(0, '/home/caitao/Project/dl-localization')\n",
    "from input_output import Default"
   ]
  },
  {
   "cell_type": "code",
   "execution_count": 2,
   "metadata": {},
   "outputs": [],
   "source": []
  },
  {
   "cell_type": "markdown",
   "metadata": {},
   "source": [
    "# Common modules"
   ]
  },
  {
   "cell_type": "code",
   "execution_count": 3,
   "metadata": {},
   "outputs": [],
   "source": [
    "class MinMaxNormalize:\n",
    "    '''Min max normalization, the new bound is (lower, upper)\n",
    "    '''\n",
    "    def __init__(self, lower=0, upper=1):\n",
    "        assert isinstance(lower, (int, float))\n",
    "        assert isinstance(upper, (int, float))\n",
    "        self.lower = lower\n",
    "        self.upper = upper\n",
    "\n",
    "    def __call__(self, matrix):\n",
    "        minn = matrix.min()\n",
    "        maxx = matrix.max()\n",
    "        matrix = (matrix - minn) / (maxx - minn)\n",
    "        if self.lower != 0 or self.upper != 1:\n",
    "            matrix = self.lower + matrix * (self.upper - self.lower)\n",
    "        return matrix.astype(np.float32)"
   ]
  },
  {
   "cell_type": "markdown",
   "metadata": {},
   "source": [
    "# 0 Input is Image"
   ]
  },
  {
   "cell_type": "code",
   "execution_count": 65,
   "metadata": {
    "collapsed": true
   },
   "outputs": [
    {
     "name": "stdout",
     "output_type": "stream",
     "text": [
      "label: 0\n"
     ]
    },
    {
     "data": {
      "image/png": "[encoded data removed]",
      "text/plain": [
       "<Figure size 432x288 with 1 Axes>"
      ]
     },
     "metadata": {
      "needs_background": "light"
     },
     "output_type": "display_data"
    }
   ],
   "source": [
    "# when the input is an image\n",
    "class SensorInputDatasetImage(Dataset):\n",
    "    '''Sensor reading input dataset'''\n",
    "    def __init__(self, root_dir: str, transform=None):\n",
    "        '''\n",
    "        Args:\n",
    "            root_dir:  directory with all the images\n",
    "            labels:    labels of images\n",
    "            transform: optional transform to be applied on a sample\n",
    "        '''\n",
    "        self.root_dir = root_dir\n",
    "        self.transform = transform\n",
    "        self.length = len(os.listdir(self.root_dir))\n",
    "\n",
    "    def __len__(self):\n",
    "        return self.length * Default.sample_per_label\n",
    "\n",
    "    def __getitem__(self, idx):\n",
    "        folder   = self.oneDint2twoDstr(int(idx/Default.sample_per_label))\n",
    "        imgname  = str(idx%Default.sample_per_label) + '.png'\n",
    "        img_path = os.path.join(self.root_dir, folder, imgname)\n",
    "        image = Image.open(img_path)\n",
    "        if self.transform:\n",
    "            image = self.transform(image)\n",
    "        label = self.twoDstr2oneDint(folder)\n",
    "        sample = {'image':image, 'label':label}\n",
    "        return sample\n",
    "\n",
    "    def oneDint2twoDstr(self, oneDint):\n",
    "        '''convert a one dimension integer index to a two dimension string index'''\n",
    "        x = oneDint // Default.grid_length\n",
    "        y = oneDint % Default.grid_length\n",
    "        return f'({x}, {y})'\n",
    "    \n",
    "    def twoDstr2oneDint(self, twoDstr):\n",
    "        '''convert a two dimension string to a one dimension integet index for the labels'''\n",
    "        twoDstr = twoDstr[1:-1]\n",
    "        x, y = twoDstr.split(',')\n",
    "        x, y = int(x), int(y)\n",
    "        return x*Default.grid_length + y\n",
    "\n",
    "root_dir = './data/images_1'\n",
    "tf = T.Compose([\n",
    "     T.ToTensor()\n",
    "])\n",
    "\n",
    "sensor_input_dataset = SensorInputDatasetImage(root_dir = root_dir, transform = tf)\n",
    "sensor_input_dataloader = DataLoader(sensor_input_dataset, batch_size=4, shuffle=True, num_workers=4)\n",
    "plt.imshow(np.transpose(sensor_input_dataset[0]['image'], (1, 2, 0))[:, :, 0], cmap='gray')\n",
    "print('label:', sensor_input_dataset[0]['label'])"
   ]
  },
  {
   "cell_type": "markdown",
   "metadata": {},
   "source": [
    "---\n",
    "\n",
    "# 2 Input is matrix, classification with 10K labels (area is 100x100)"
   ]
  },
  {
   "cell_type": "code",
   "execution_count": 4,
   "metadata": {
    "tags": []
   },
   "outputs": [],
   "source": [
    "# when the input is a matrix\n",
    "class SensorInputDataset(Dataset):\n",
    "    '''Sensor reading input dataset'''\n",
    "    def __init__(self, root_dir: str, transform=None):\n",
    "        '''\n",
    "        Args:\n",
    "            root_dir:  directory with all the images\n",
    "            labels:    labels of images\n",
    "            transform: optional transform to be applied on a sample\n",
    "        '''\n",
    "        self.root_dir = root_dir\n",
    "        self.transform = transform\n",
    "        self.length = len(os.listdir(self.root_dir))\n",
    "\n",
    "    def __len__(self):\n",
    "        return self.length * Default.sample_per_label\n",
    "\n",
    "    def __getitem__(self, idx):\n",
    "        folder   = self.oneDint2twoDstr(int(idx/Default.sample_per_label))\n",
    "        matrix_name = str(idx%Default.sample_per_label) + '.txt'\n",
    "        matrix_path = os.path.join(self.root_dir, folder, matrix_name)\n",
    "        matrix = np.loadtxt(matrix_path, delimiter=',', dtype=float)\n",
    "        if self.transform:\n",
    "            matrix = self.transform(matrix)\n",
    "        label = self.twoDstr2oneDint(folder)\n",
    "        sample = {'matrix':matrix, 'label':label}\n",
    "        return sample\n",
    "\n",
    "    def oneDint2twoDstr(self, oneDint):\n",
    "        '''convert a one dimension integer index to a two dimension string index'''\n",
    "        x = oneDint // Default.grid_length\n",
    "        y = oneDint % Default.grid_length\n",
    "        return f'({x}, {y})'\n",
    "\n",
    "    def twoDstr2oneDint(self, twoDstr):\n",
    "        '''convert a two dimension string to a one dimension integet index for the labels'''\n",
    "        twoDstr = twoDstr[1:-1]\n",
    "        x, y = twoDstr.split(',')\n",
    "        x, y = int(x), int(y)\n",
    "        return x*Default.grid_length + y"
   ]
  },
  {
   "cell_type": "code",
   "execution_count": 5,
   "metadata": {},
   "outputs": [],
   "source": [
    "class Net1(nn.Module):\n",
    "    '''The output dimension of the full connnection layer is 100 x 100 = 10000\n",
    "       Assuming the input image is 1 x 100 x 100\n",
    "    '''\n",
    "    def __init__(self):\n",
    "        super(Net1, self).__init__()\n",
    "        self.conv1 = nn.Conv2d(1, 8, 5)\n",
    "        self.conv2 = nn.Conv2d(8, 32, 5)\n",
    "        self.fc    = nn.Linear(15488, 10000)  # too many labels\n",
    "\n",
    "    def forward(self, x):\n",
    "        x = F.max_pool2d(F.relu(self.conv1(x)), 2)\n",
    "        x = F.max_pool2d(F.relu(self.conv2(x)), 2)\n",
    "        x = x.view(-1, self.num_flat_features(x))\n",
    "        x = F.relu(self.fc(x))\n",
    "        return x\n",
    "\n",
    "    def num_flat_features(self, x):\n",
    "        size = x.size()[1:]  # all dimensions except the batch dimension\n",
    "        num_features = 1\n",
    "        for s in size:\n",
    "            num_features *= s\n",
    "        return num_features"
   ]
  },
  {
   "cell_type": "code",
   "execution_count": 6,
   "metadata": {},
   "outputs": [],
   "source": [
    "# data\n",
    "\n",
    "root_dir = './data/matrix-1'\n",
    "tf = T.Compose([\n",
    "     MinMaxNormalize(),\n",
    "     T.ToTensor()\n",
    "])\n",
    "\n",
    "sensor_input_dataset = SensorInputDataset(root_dir = root_dir, transform = tf)\n",
    "sensor_input_dataloader = DataLoader(sensor_input_dataset, batch_size=4, shuffle=True, num_workers=4)"
   ]
  },
  {
   "cell_type": "code",
   "execution_count": 7,
   "metadata": {
    "scrolled": true
   },
   "outputs": [
    {
     "name": "stdout",
     "output_type": "stream",
     "text": [
      "epoch = 0\n",
      "t = 0, loss = 9.200733184814453\n",
      "t = 200, loss = 9.21034049987793\n",
      "t = 400, loss = 9.21034049987793\n",
      "t = 600, loss = 9.21034049987793\n",
      "t = 800, loss = 9.21034049987793\n",
      "t = 1000, loss = 9.21034049987793\n",
      "t = 1200, loss = 9.21034049987793\n",
      "t = 1400, loss = 9.21034049987793\n",
      "t = 1600, loss = 9.21034049987793\n",
      "t = 1800, loss = 9.21034049987793\n",
      "t = 2000, loss = 9.21034049987793\n",
      "t = 2200, loss = 9.21034049987793\n",
      "t = 2400, loss = 9.21034049987793\n",
      "t = 2600, loss = 9.21034049987793\n",
      "t = 2800, loss = 9.21034049987793\n",
      "t = 3000, loss = 9.21034049987793\n",
      "t = 3200, loss = 9.21034049987793\n",
      "t = 3400, loss = 9.21034049987793\n",
      "t = 3600, loss = 9.21034049987793\n",
      "t = 3800, loss = 9.21034049987793\n",
      "t = 4000, loss = 9.21034049987793\n",
      "t = 4200, loss = 9.21034049987793\n",
      "t = 4400, loss = 9.21034049987793\n",
      "t = 4600, loss = 9.21034049987793\n",
      "t = 4800, loss = 9.21034049987793\n",
      "epoch = 1\n",
      "t = 0, loss = 9.21034049987793\n",
      "t = 200, loss = 9.21034049987793\n",
      "t = 400, loss = 9.21034049987793\n",
      "t = 600, loss = 9.21034049987793\n",
      "t = 800, loss = 9.21034049987793\n",
      "t = 1000, loss = 9.21034049987793\n",
      "t = 1200, loss = 9.21034049987793\n",
      "t = 1400, loss = 9.21034049987793\n",
      "t = 1600, loss = 9.21034049987793\n",
      "t = 1800, loss = 9.21034049987793\n",
      "t = 2000, loss = 9.21034049987793\n",
      "t = 2200, loss = 9.21034049987793\n",
      "t = 2400, loss = 9.21034049987793\n",
      "t = 2600, loss = 9.21034049987793\n",
      "t = 2800, loss = 9.21034049987793\n",
      "t = 3000, loss = 9.21034049987793\n",
      "t = 3200, loss = 9.21034049987793\n",
      "t = 3400, loss = 9.21034049987793\n",
      "t = 3600, loss = 9.21034049987793\n",
      "t = 3800, loss = 9.21034049987793\n",
      "t = 4000, loss = 9.21034049987793\n",
      "t = 4200, loss = 9.21034049987793\n",
      "t = 4400, loss = 9.21034049987793\n",
      "t = 4600, loss = 9.21034049987793\n",
      "t = 4800, loss = 9.21034049987793\n",
      "epoch = 2\n",
      "t = 0, loss = 9.21034049987793\n",
      "t = 200, loss = 9.21034049987793\n",
      "t = 400, loss = 9.21034049987793\n",
      "t = 600, loss = 9.21034049987793\n",
      "t = 800, loss = 9.21034049987793\n",
      "t = 1000, loss = 9.21034049987793\n",
      "t = 1200, loss = 9.21034049987793\n",
      "t = 1400, loss = 9.21034049987793\n",
      "t = 1600, loss = 9.21034049987793\n",
      "t = 1800, loss = 9.21034049987793\n",
      "t = 2000, loss = 9.21034049987793\n",
      "t = 2200, loss = 9.21034049987793\n",
      "t = 2400, loss = 9.21034049987793\n",
      "t = 2600, loss = 9.21034049987793\n",
      "t = 2800, loss = 9.21034049987793\n",
      "t = 3000, loss = 9.21034049987793\n",
      "t = 3200, loss = 9.21034049987793\n",
      "t = 3400, loss = 9.21034049987793\n",
      "t = 3600, loss = 9.21034049987793\n",
      "t = 3800, loss = 9.21034049987793\n",
      "t = 4000, loss = 9.21034049987793\n",
      "t = 4200, loss = 9.21034049987793\n",
      "t = 4400, loss = 9.21034049987793\n",
      "t = 4600, loss = 9.21034049987793\n",
      "t = 4800, loss = 9.21034049987793\n"
     ]
    }
   ],
   "source": [
    "# training\n",
    "\n",
    "net1      = Net1()\n",
    "device    = torch.device('cuda')\n",
    "model     = net1.to(device)\n",
    "optimizer = optim.Adam(model.parameters(), lr=0.001)\n",
    "criterion = nn.CrossEntropyLoss()  # criterion is the loss function\n",
    "\n",
    "num_epochs = 3\n",
    "train_losses = []\n",
    "valid_accs = []\n",
    "best_acc = 0\n",
    "print_every = 200\n",
    "\n",
    "for epoch in range(num_epochs):\n",
    "    print(f'epoch = {epoch}')\n",
    "    for t, sample in enumerate(sensor_input_dataloader):\n",
    "        model.train()\n",
    "        X = sample['matrix'].to(device)\n",
    "        y = sample['label'].to(device)\n",
    "        pred = model(X)\n",
    "        loss = criterion(pred, y)\n",
    "        optimizer.zero_grad()\n",
    "        loss.backward()\n",
    "        optimizer.step()\n",
    "        if t % print_every == 0:\n",
    "            print(f't = {t}, loss = {loss.item()}')"
   ]
  },
  {
   "cell_type": "markdown",
   "metadata": {},
   "source": [
    "# 3 Output is image, model as image segmentation problem\n",
    "\n",
    "## In the output grid (image), the location with the TX is 1, all others are 0"
   ]
  },
  {
   "cell_type": "markdown",
   "metadata": {},
   "source": [
    "## 3.1 Loss is nn.BCEWithLogitsLoss()"
   ]
  },
  {
   "cell_type": "code",
   "execution_count": 10,
   "metadata": {
    "tags": []
   },
   "outputs": [
    {
     "name": "stdout",
     "output_type": "stream",
     "text": [
      "torch.Size([1, 100, 100])\n",
      "[[[1. 0. 0. ... 0. 0. 0.]\n",
      "  [0. 0. 0. ... 0. 0. 0.]\n",
      "  [0. 0. 0. ... 0. 0. 0.]\n",
      "  ...\n",
      "  [0. 0. 0. ... 0. 0. 0.]\n",
      "  [0. 0. 0. ... 0. 0. 0.]\n",
      "  [0. 0. 0. ... 0. 0. 0.]]]\n"
     ]
    }
   ],
   "source": [
    "class SensorInputDatasetSegmentation(Dataset):\n",
    "    '''Sensor reading input dataset\n",
    "       Output is image, model as a image segmentation problem\n",
    "    '''\n",
    "    def __init__(self, root_dir: str, transform=None):\n",
    "        '''\n",
    "        Args:\n",
    "            root_dir:  directory with all the images\n",
    "            labels:    labels of images\n",
    "            transform: optional transform to be applied on a sample\n",
    "        '''\n",
    "        self.root_dir = root_dir\n",
    "        self.transform = transform\n",
    "        self.length = len(os.listdir(self.root_dir))\n",
    "\n",
    "    def __len__(self):\n",
    "        return self.length * Default.sample_per_label\n",
    "\n",
    "    def __getitem__(self, idx):\n",
    "        folder   = self.oneDint2twoDstr(int(idx/Default.sample_per_label))\n",
    "        matrix_name = str(idx%Default.sample_per_label) + '.txt'\n",
    "        matrix_path = os.path.join(self.root_dir, folder, matrix_name)\n",
    "        matrix = np.loadtxt(matrix_path, delimiter=',', dtype=float)\n",
    "        if self.transform:\n",
    "            matrix = self.transform(matrix)\n",
    "        label = self.twoDstr2twoDmatrix(folder)\n",
    "        sample = {'matrix':matrix, 'label':label}\n",
    "        return sample\n",
    "\n",
    "    def oneDint2twoDstr(self, oneDint):\n",
    "        '''convert a one dimension integer index to a two dimension string index'''\n",
    "        x = oneDint // Default.grid_length\n",
    "        y = oneDint % Default.grid_length\n",
    "        return f'({x}, {y})'\n",
    "\n",
    "    def twoDstr2twoDmatrix(self, twoDstr):\n",
    "        '''convert a two dimension string to a one dimension integet index for the labels'''\n",
    "        twoDstr = twoDstr[1:-1]\n",
    "        x, y = twoDstr.split(',')\n",
    "        x, y = int(x), int(y)\n",
    "        grid = np.zeros((Default.grid_length, Default.grid_length))\n",
    "        grid[x][y] = 1\n",
    "        grid = np.expand_dims(grid, 0)\n",
    "        return grid.astype(np.float32)\n",
    "\n",
    "\n",
    "root_dir = './data/matrix-1'\n",
    "tf = T.Compose([\n",
    "     MinMaxNormalize(),\n",
    "     T.ToTensor()\n",
    "])\n",
    "\n",
    "sensor_input_dataset = SensorInputDatasetSegmentation(root_dir = root_dir, transform = tf)\n",
    "sensor_input_dataloader = DataLoader(sensor_input_dataset, batch_size=4, shuffle=True, num_workers=4)\n",
    "print(sensor_input_dataset[0]['matrix'].shape)\n",
    "print(sensor_input_dataset[0]['label'])"
   ]
  },
  {
   "cell_type": "code",
   "execution_count": 11,
   "metadata": {
    "tags": []
   },
   "outputs": [
    {
     "name": "stdout",
     "output_type": "stream",
     "text": [
      "Net2(\n",
      "  (conv1): Conv2d(1, 8, kernel_size=(5, 5), stride=(1, 1), padding=(2, 2))\n",
      "  (conv2): Conv2d(8, 32, kernel_size=(5, 5), stride=(1, 1), padding=(2, 2))\n",
      "  (conv3): Conv2d(32, 1, kernel_size=(5, 5), stride=(1, 1), padding=(2, 2))\n",
      ")\n"
     ]
    }
   ],
   "source": [
    "# model\n",
    "\n",
    "class Net2(nn.Module):\n",
    "    '''The output dimension of the full connnection layer is 100 x 100 = 10000\n",
    "       Assuming the input image is 1 x 100 x 100\n",
    "    '''\n",
    "    def __init__(self):\n",
    "        super(Net2, self).__init__()\n",
    "        self.conv1 = nn.Conv2d(1, 8, 5, padding=2)\n",
    "        self.conv2 = nn.Conv2d(8, 32, 5, padding=2)\n",
    "        self.conv3 = nn.Conv2d(32, 1, 5, padding=2)\n",
    "        \n",
    "    def forward(self, x):\n",
    "        x = F.relu(self.conv1(x))\n",
    "        x = F.relu(self.conv2(x))\n",
    "        x = self.conv3(x)\n",
    "        return x\n",
    "\n",
    "net2 = Net2()\n",
    "print(net2)"
   ]
  },
  {
   "cell_type": "code",
   "execution_count": 22,
   "metadata": {
    "scrolled": true
   },
   "outputs": [
    {
     "name": "stdout",
     "output_type": "stream",
     "text": [
      "epoch = 0\n",
      "t = 0, loss = 0.6931371092796326\n",
      "t = 200, loss = 0.001581347780302167\n",
      "t = 400, loss = 0.001181990490294993\n",
      "t = 600, loss = 0.0007860077894292772\n",
      "t = 800, loss = 0.0007259153062477708\n",
      "t = 1000, loss = 0.0006027893978171051\n",
      "t = 1200, loss = 0.0005413669277913868\n",
      "t = 1400, loss = 0.0005892982590012252\n",
      "t = 1600, loss = 0.0006833101506344974\n",
      "t = 1800, loss = 0.000665325962472707\n",
      "t = 2000, loss = 0.0007167771691456437\n",
      "t = 2200, loss = 0.0004928629496134818\n",
      "t = 2400, loss = 0.0006421110010705888\n",
      "t = 2600, loss = 0.0005880426033399999\n",
      "t = 2800, loss = 0.0005871389294043183\n",
      "t = 3000, loss = 0.0006019043503329158\n",
      "t = 3200, loss = 0.0004949279245920479\n",
      "t = 3400, loss = 0.000523646071087569\n",
      "t = 3600, loss = 0.0004494731838349253\n",
      "t = 3800, loss = 0.0004750811494886875\n",
      "t = 4000, loss = 0.0004550309095066041\n",
      "t = 4200, loss = 0.0004261813883204013\n",
      "t = 4400, loss = 0.0007091080187819898\n",
      "t = 4600, loss = 0.0006295934435911477\n",
      "t = 4800, loss = 0.0005709975957870483\n",
      "epoch = 1\n",
      "t = 0, loss = 0.0005228058435022831\n",
      "t = 200, loss = 0.00043466509669087827\n",
      "t = 400, loss = 0.0005280054174363613\n",
      "t = 600, loss = 0.00046588043915107846\n",
      "t = 800, loss = 0.0005776889738626778\n",
      "t = 1000, loss = 0.0004895352176390588\n",
      "t = 1200, loss = 0.0004334950353950262\n",
      "t = 1400, loss = 0.0005863746046088636\n",
      "t = 1600, loss = 0.0005307332030497491\n",
      "t = 1800, loss = 0.00041986937867477536\n",
      "t = 2000, loss = 0.0004813519772142172\n",
      "t = 2200, loss = 0.00041863982914946973\n",
      "t = 2400, loss = 0.00062678346876055\n",
      "t = 2600, loss = 0.0005208375514484942\n",
      "t = 2800, loss = 0.0004903672379441559\n",
      "t = 3000, loss = 0.0004265310999471694\n",
      "t = 3200, loss = 0.0004829557437915355\n",
      "t = 3400, loss = 0.0004813247069250792\n",
      "t = 3600, loss = 0.00038485799450427294\n",
      "t = 3800, loss = 0.0004307774070184678\n",
      "t = 4000, loss = 0.00041369948303326964\n",
      "t = 4200, loss = 0.0005199221195653081\n",
      "t = 4400, loss = 0.00037759970291517675\n",
      "t = 4600, loss = 0.00042548650526441634\n",
      "t = 4800, loss = 0.00042770171421580017\n"
     ]
    }
   ],
   "source": [
    "# training segmentation problem\n",
    "\n",
    "device    = torch.device('cuda')\n",
    "model     = net2.to(device)\n",
    "optimizer = optim.Adam(model.parameters(), lr=0.001)\n",
    "criterion = nn.BCEWithLogitsLoss()  # criterion is the loss function\n",
    "\n",
    "num_epochs = 2\n",
    "train_losses = []\n",
    "valid_accs = []\n",
    "best_acc = 0\n",
    "print_every = 200\n",
    "\n",
    "for epoch in range(num_epochs):\n",
    "    print(f'epoch = {epoch}')\n",
    "    for t, sample in enumerate(sensor_input_dataloader):\n",
    "        model.train()\n",
    "        X = sample['matrix'].to(device)\n",
    "        y = sample['label'].to(device)\n",
    "        pred = model(X)\n",
    "        loss = criterion(pred, y)\n",
    "        optimizer.zero_grad()\n",
    "        loss.backward()\n",
    "        optimizer.step()\n",
    "        if t % print_every == 0:\n",
    "            print(f't = {t}, loss = {loss.item()}')"
   ]
  },
  {
   "cell_type": "code",
   "execution_count": 23,
   "metadata": {},
   "outputs": [
    {
     "name": "stdout",
     "output_type": "stream",
     "text": [
      "epoch = 0\n",
      "(4, 1, 100, 100)\n"
     ]
    },
    {
     "data": {
      "text/plain": [
       "<matplotlib.image.AxesImage at 0x7f90fd677550>"
      ]
     },
     "execution_count": 23,
     "metadata": {},
     "output_type": "execute_result"
    },
    {
     "data": {
      "image/png": "[encoded data removed]",
      "text/plain": [
       "<Figure size 432x288 with 1 Axes>"
      ]
     },
     "metadata": {
      "needs_background": "light"
     },
     "output_type": "display_data"
    }
   ],
   "source": [
    "model.eval()\n",
    "num_epochs = 1\n",
    "train_losses = []\n",
    "valid_accs = []\n",
    "best_acc = 0\n",
    "print_every = 100\n",
    "\n",
    "for epoch in range(num_epochs):\n",
    "    print(f'epoch = {epoch}')\n",
    "    for t, sample in enumerate(sensor_input_dataloader):\n",
    "        model.train()\n",
    "        X = sample['matrix'].to(device)\n",
    "        y = sample['label'].to(device)\n",
    "        pred = model(X)\n",
    "        break\n",
    "\n",
    "pred = pred.data.cpu().numpy()\n",
    "print(pred.shape)\n",
    "i = 0\n",
    "plt.imshow(pred[i, 0], cmap='gray')"
   ]
  },
  {
   "cell_type": "code",
   "execution_count": 24,
   "metadata": {},
   "outputs": [
    {
     "data": {
      "text/plain": [
       "<matplotlib.image.AxesImage at 0x7f910f5b7588>"
      ]
     },
     "execution_count": 24,
     "metadata": {},
     "output_type": "execute_result"
    },
    {
     "data": {
      "image/png": "[encoded data removed]",
      "text/plain": [
       "<Figure size 432x288 with 1 Axes>"
      ]
     },
     "metadata": {
      "needs_background": "light"
     },
     "output_type": "display_data"
    }
   ],
   "source": [
    "plt.imshow(y[i, 0].data.cpu(), cmap='gray')"
   ]
  },
  {
   "cell_type": "markdown",
   "metadata": {},
   "source": [
    "## 3.2 Loss is nn.MSELoss()"
   ]
  },
  {
   "cell_type": "code",
   "execution_count": 16,
   "metadata": {},
   "outputs": [],
   "source": [
    "# segmentation problem\n",
    "\n",
    "net2 = Net2()\n",
    "\n",
    "device    = torch.device('cuda')\n",
    "model     = net2.to(device)\n",
    "optimizer = optim.Adam(model.parameters(), lr=0.001)\n",
    "criterion = nn.MSELoss()  # criterion is the loss function"
   ]
  },
  {
   "cell_type": "code",
   "execution_count": 17,
   "metadata": {
    "scrolled": true,
    "tags": []
   },
   "outputs": [
    {
     "name": "stdout",
     "output_type": "stream",
     "text": [
      "epoch = 0\n",
      "t = 0, loss = 0.00019204223644919693\n",
      "t = 200, loss = 0.00010304069292033091\n",
      "t = 400, loss = 9.939263691194355e-05\n",
      "t = 600, loss = 9.955420682672411e-05\n",
      "t = 800, loss = 9.916906128637493e-05\n",
      "t = 1000, loss = 9.881371079245582e-05\n",
      "t = 1200, loss = 9.829936607275158e-05\n",
      "t = 1400, loss = 9.838287951424718e-05\n",
      "t = 1600, loss = 9.884424071060494e-05\n",
      "t = 1800, loss = 0.00010008928802562878\n",
      "t = 2000, loss = 0.00010058383486466482\n",
      "t = 2200, loss = 9.985765063902363e-05\n",
      "t = 2400, loss = 9.817850514082238e-05\n",
      "t = 2600, loss = 9.743819100549445e-05\n",
      "t = 2800, loss = 9.771838085725904e-05\n",
      "t = 3000, loss = 9.725701238494366e-05\n",
      "t = 3200, loss = 9.832384967012331e-05\n",
      "t = 3400, loss = 0.0001036451430991292\n",
      "t = 3600, loss = 9.761723049450666e-05\n",
      "t = 3800, loss = 9.928594226948917e-05\n",
      "t = 4000, loss = 9.62950216489844e-05\n",
      "t = 4200, loss = 9.740480163600296e-05\n",
      "t = 4400, loss = 9.809737821342424e-05\n",
      "t = 4600, loss = 9.650543506722897e-05\n",
      "t = 4800, loss = 9.844508167589083e-05\n",
      "epoch = 1\n",
      "t = 0, loss = 9.771006443770602e-05\n",
      "t = 200, loss = 9.937326103681698e-05\n",
      "t = 400, loss = 9.987463272409514e-05\n",
      "t = 600, loss = 9.817875252338126e-05\n",
      "t = 800, loss = 9.880182915367186e-05\n",
      "t = 1000, loss = 9.750103345140815e-05\n",
      "t = 1200, loss = 0.00010232006025034934\n",
      "t = 1400, loss = 9.758994565345347e-05\n",
      "t = 1600, loss = 9.782341658137739e-05\n",
      "t = 1800, loss = 9.973343549063429e-05\n",
      "t = 2000, loss = 9.599672193871811e-05\n",
      "t = 2200, loss = 0.00010023477807408199\n",
      "t = 2400, loss = 9.620018681744114e-05\n",
      "t = 2600, loss = 9.889775537885725e-05\n",
      "t = 2800, loss = 9.774064528755844e-05\n",
      "t = 3000, loss = 9.670751023804769e-05\n",
      "t = 3200, loss = 9.745570423547179e-05\n",
      "t = 3400, loss = 9.546912770019844e-05\n",
      "t = 3600, loss = 9.840558777796105e-05\n",
      "t = 3800, loss = 9.668090933701023e-05\n",
      "t = 4000, loss = 9.566079097567126e-05\n",
      "t = 4200, loss = 9.651099389884621e-05\n",
      "t = 4400, loss = 9.935872367350385e-05\n",
      "t = 4600, loss = 9.550195682095364e-05\n",
      "t = 4800, loss = 9.331028559245169e-05\n"
     ]
    }
   ],
   "source": [
    "num_epochs = 2\n",
    "train_losses = []\n",
    "valid_accs = []\n",
    "best_acc = 0\n",
    "PATH = '/best_model_{}.pt'\n",
    "print_every = 200\n",
    "\n",
    "for epoch in range(num_epochs):\n",
    "    print(f'epoch = {epoch}')\n",
    "    for t, sample in enumerate(sensor_input_dataloader):\n",
    "        model.train()\n",
    "        X = sample['matrix'].to(device)\n",
    "        y = sample['label'].to(device)\n",
    "        pred = model(X)\n",
    "        loss = criterion(pred, y)\n",
    "        optimizer.zero_grad()\n",
    "        loss.backward()\n",
    "        optimizer.step()\n",
    "        if t % print_every == 0:\n",
    "            print(f't = {t}, loss = {loss.item()}')"
   ]
  },
  {
   "cell_type": "code",
   "execution_count": 20,
   "metadata": {},
   "outputs": [
    {
     "name": "stdout",
     "output_type": "stream",
     "text": [
      "epoch = 0\n",
      "(4, 1, 100, 100)\n"
     ]
    },
    {
     "data": {
      "text/plain": [
       "<matplotlib.image.AxesImage at 0x7f910c02c0f0>"
      ]
     },
     "execution_count": 20,
     "metadata": {},
     "output_type": "execute_result"
    },
    {
     "data": {
      "image/png": "[encoded data removed]",
      "text/plain": [
       "<Figure size 432x288 with 1 Axes>"
      ]
     },
     "metadata": {
      "needs_background": "light"
     },
     "output_type": "display_data"
    }
   ],
   "source": [
    "model.eval()\n",
    "num_epochs = 1\n",
    "train_losses = []\n",
    "valid_accs = []\n",
    "best_acc = 0\n",
    "print_every = 100\n",
    "\n",
    "for epoch in range(num_epochs):\n",
    "    print(f'epoch = {epoch}')\n",
    "    for t, sample in enumerate(sensor_input_dataloader):\n",
    "        model.train()\n",
    "        X = sample['matrix'].to(device)\n",
    "        y = sample['label'].to(device)\n",
    "        pred = model(X)\n",
    "        break\n",
    "\n",
    "pred = pred.data.cpu().numpy()\n",
    "print(pred.shape)\n",
    "i = 0\n",
    "plt.imshow(pred[i, 0], cmap='gray')"
   ]
  },
  {
   "cell_type": "code",
   "execution_count": 21,
   "metadata": {},
   "outputs": [
    {
     "data": {
      "text/plain": [
       "<matplotlib.image.AxesImage at 0x7f910dd97400>"
      ]
     },
     "execution_count": 21,
     "metadata": {},
     "output_type": "execute_result"
    },
    {
     "data": {
      "image/png": "[encoded data removed]",
      "text/plain": [
       "<Figure size 432x288 with 1 Axes>"
      ]
     },
     "metadata": {
      "needs_background": "light"
     },
     "output_type": "display_data"
    }
   ],
   "source": [
    "plt.imshow(y[i, 0].data.cpu(), cmap='gray')"
   ]
  },
  {
   "cell_type": "markdown",
   "metadata": {},
   "source": [
    "# Mics"
   ]
  },
  {
   "cell_type": "code",
   "execution_count": 30,
   "metadata": {},
   "outputs": [],
   "source": [
    "a = np.loadtxt('data/matrix-1/(0, 0)/0.txt', dtype=float, delimiter=',')"
   ]
  },
  {
   "cell_type": "code",
   "execution_count": 37,
   "metadata": {},
   "outputs": [
    {
     "data": {
      "text/plain": [
       "((100, 100), numpy.ndarray)"
      ]
     },
     "execution_count": 37,
     "metadata": {},
     "output_type": "execute_result"
    }
   ],
   "source": [
    "a.shape, type(a)"
   ]
  },
  {
   "cell_type": "code",
   "execution_count": 34,
   "metadata": {},
   "outputs": [],
   "source": [
    "b = imageio.imread('data/images_1/(0, 0)/0.png')"
   ]
  },
  {
   "cell_type": "code",
   "execution_count": 36,
   "metadata": {},
   "outputs": [
    {
     "data": {
      "text/plain": [
       "((100, 100), imageio.core.util.Array)"
      ]
     },
     "execution_count": 36,
     "metadata": {},
     "output_type": "execute_result"
    }
   ],
   "source": [
    "b.shape, type(b)"
   ]
  },
  {
   "cell_type": "code",
   "execution_count": 24,
   "metadata": {},
   "outputs": [],
   "source": [
    "a = np.array([1.1, 2.2, 3.3])"
   ]
  },
  {
   "cell_type": "code",
   "execution_count": 26,
   "metadata": {},
   "outputs": [
    {
     "data": {
      "text/plain": [
       "array([1.1, 2.2, 3.3], dtype=float32)"
      ]
     },
     "execution_count": 26,
     "metadata": {},
     "output_type": "execute_result"
    }
   ],
   "source": [
    "a.astype(np.float32)"
   ]
  },
  {
   "cell_type": "code",
   "execution_count": null,
   "metadata": {},
   "outputs": [],
   "source": []
  }
 ],
 "metadata": {
  "kernelspec": {
   "display_name": "Python 3",
   "language": "python",
   "name": "python3"
  },
  "language_info": {
   "codemirror_mode": {
    "name": "ipython",
    "version": 3
   },
   "file_extension": ".py",
   "mimetype": "text/x-python",
   "name": "python",
   "nbconvert_exporter": "python",
   "pygments_lexer": "ipython3",
   "version": "3.7.3"
  }
 },
 "nbformat": 4,
 "nbformat_minor": 2
}
